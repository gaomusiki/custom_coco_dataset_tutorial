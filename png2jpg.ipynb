{
 "cells": [
  {
   "cell_type": "code",
   "execution_count": 2,
   "metadata": {},
   "outputs": [],
   "source": [
    "from PIL import Image\n",
    "import os\n",
    "\n",
    "def convert_png_to_jpg(input_path, output_path, quality=95):\n",
    "    \"\"\"\n",
    "    将 PNG 图片转换为 JPG，去除 Alpha 通道，并调整质量\n",
    "    :param input_path: 输入 PNG 文件路径\n",
    "    :param output_path: 输出 JPG 文件路径\n",
    "    :param quality: JPG 质量（默认 95）\n",
    "    \"\"\"\n",
    "    # 打开 PNG 图片\n",
    "    img = Image.open(input_path)\n",
    "    # 如果 PNG 有透明通道，转换为白色背景\n",
    "    if img.mode in (\"RGBA\", \"LA\"):\n",
    "        background = Image.new(\"RGB\", img.size, (255, 255, 255))  # 纯白背景\n",
    "        img = Image.alpha_composite(background, img.convert(\"RGBA\"))\n",
    "    # 确保最终是 RGB 模式\n",
    "    img = img.convert(\"RGB\")\n",
    "    # 保存为 JPG\n",
    "    img.save(output_path, \"JPEG\", quality=quality)"
   ]
  },
  {
   "cell_type": "code",
   "execution_count": null,
   "metadata": {},
   "outputs": [
    {
     "name": "stdout",
     "output_type": "stream",
     "text": [
      "✅ 2_origin.png 转换完成！\n",
      "✅ 1_origin.png 转换完成！\n",
      "✅ 4_origin.png 转换完成！\n",
      "✅ 3_origin.png 转换完成！\n",
      "✅ 5_origin.png 转换完成！\n"
     ]
    }
   ],
   "source": [
    "def batch_convert_png_to_jpg(input_folder, output_folder):\n",
    "    \"\"\"\n",
    "    批量将 PNG 图片转换为 JPG\n",
    "    :param input_folder: PNG 图片所在的文件夹\n",
    "    :param output_folder: 转换后 JPG 存放的文件夹\n",
    "    \"\"\"\n",
    "    os.makedirs(output_folder, exist_ok=True)  # 确保输出目录存在\n",
    "    for file in os.listdir(input_folder):\n",
    "        if file.lower().endswith(\".png\"):\n",
    "            png_path = os.path.join(input_folder, file)\n",
    "            jpg_path = os.path.join(output_folder, os.path.splitext(file)[0] + \".jpg\")\n",
    "            convert_png_to_jpg(png_path, jpg_path)\n",
    "            print(f\"✅ {file} 转换完成！\")\n",
    "# 示例用法\n",
    "input_folder=\"./train\"\n",
    "output_folder=\"./train\"\n",
    "batch_convert_png_to_jpg(input_folder,output_folder)\n"
   ]
  }
 ],
 "metadata": {
  "kernelspec": {
   "display_name": "mask2former",
   "language": "python",
   "name": "python3"
  },
  "language_info": {
   "codemirror_mode": {
    "name": "ipython",
    "version": 3
   },
   "file_extension": ".py",
   "mimetype": "text/x-python",
   "name": "python",
   "nbconvert_exporter": "python",
   "pygments_lexer": "ipython3",
   "version": "3.8.18"
  }
 },
 "nbformat": 4,
 "nbformat_minor": 2
}
